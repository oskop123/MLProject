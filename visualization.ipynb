{
  "nbformat": 4,
  "nbformat_minor": 0,
  "metadata": {
    "colab": {
      "name": "visualization (1).ipynb",
      "provenance": [],
      "collapsed_sections": []
    },
    "kernelspec": {
      "name": "python3",
      "display_name": "Python 3"
    },
    "language_info": {
      "name": "python"
    }
  },
  "cells": [
    {
      "cell_type": "code",
      "metadata": {
        "id": "2gQNp8EObscz"
      },
      "source": [
        "import random\n",
        "\n",
        "import numpy as np\n",
        "import tensorflow as tf\n",
        "import pandas as pd\n",
        "from tensorflow import keras\n",
        "import matplotlib.pyplot as plt"
      ],
      "execution_count": null,
      "outputs": []
    },
    {
      "cell_type": "code",
      "metadata": {
        "id": "zZflVViZb-pX"
      },
      "source": [
        "model = keras.models.load_model('')\n",
        "X = pd.read_pickle('')\n",
        "Y = pd.read_pickle('')"
      ],
      "execution_count": null,
      "outputs": []
    },
    {
      "cell_type": "code",
      "metadata": {
        "id": "jMpaIdi-camO"
      },
      "source": [
        "x_test = X.to_numpy()[90000:]\n",
        "y_test = Y.to_numpy()[90000:]"
      ],
      "execution_count": null,
      "outputs": []
    },
    {
      "cell_type": "code",
      "metadata": {
        "colab": {
          "base_uri": "https://localhost:8080/"
        },
        "id": "6Z9_CBRtfMC8",
        "outputId": "e198c0e9-efe1-430c-a771-c4209f3f356a"
      },
      "source": [
        "model.evaluate(x=x_test, y=y_test, batch_size=256, verbose=1)"
      ],
      "execution_count": null,
      "outputs": [
        {
          "output_type": "stream",
          "text": [
            "40/40 [==============================] - 1s 5ms/step - loss: 0.2890 - mean_absolute_error: 0.2890\n"
          ],
          "name": "stdout"
        },
        {
          "output_type": "execute_result",
          "data": {
            "text/plain": [
              "[0.28901737928390503, 0.28901737928390503]"
            ]
          },
          "metadata": {
            "tags": []
          },
          "execution_count": 7
        }
      ]
    },
    {
      "cell_type": "code",
      "metadata": {
        "colab": {
          "base_uri": "https://localhost:8080/"
        },
        "id": "_KA7MNn_fXcl",
        "outputId": "10ca7788-a4a1-4815-90e0-b0460247ae3a"
      },
      "source": [
        "y_pred = model.predict(x_test, verbose=1)"
      ],
      "execution_count": null,
      "outputs": [
        {
          "output_type": "stream",
          "text": [
            "313/313 [==============================] - 0s 1ms/step\n"
          ],
          "name": "stdout"
        }
      ]
    },
    {
      "cell_type": "code",
      "metadata": {
        "colab": {
          "base_uri": "https://localhost:8080/",
          "height": 298
        },
        "id": "WyPai9SlhkR3",
        "outputId": "02357030-7123-468d-b686-172d1206a4b8"
      },
      "source": [
        "index = random.randint(0, x_test.shape[0])\n",
        "\n",
        "test = y_test[index]\n",
        "pred = y_pred[index]\n",
        "\n",
        "test_real = test[::2]\n",
        "test_imag = test[1::2]\n",
        "\n",
        "pred_real = pred[::2]\n",
        "pred_imag = pred[1::2]\n",
        "\n",
        "plt.scatter(test_real, test_imag, label='test')\n",
        "plt.scatter(pred_real, pred_imag, label='pred')\n",
        "plt.legend()\n",
        "plt.xlabel('Real')\n",
        "plt.ylabel('Imag')\n",
        "plt.axhline(0)\n",
        "plt.axvline(0)"
      ],
      "execution_count": null,
      "outputs": [
        {
          "output_type": "execute_result",
          "data": {
            "text/plain": [
              "<matplotlib.lines.Line2D at 0x7f367833bbd0>"
            ]
          },
          "metadata": {
            "tags": []
          },
          "execution_count": 168
        },
        {
          "output_type": "display_data",
          "data": {
            "image/png": "[encoded data removed]",
            "text/plain": [
              "<Figure size 432x288 with 1 Axes>"
            ]
          },
          "metadata": {
            "tags": [],
            "needs_background": "light"
          }
        }
      ]
    }
  ]
}