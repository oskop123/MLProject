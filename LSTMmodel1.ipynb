{
  "nbformat": 4,
  "nbformat_minor": 0,
  "metadata": {
    "colab": {
      "name": "LSTMmodel1.ipynb",
      "provenance": [],
      "collapsed_sections": []
    },
    "kernelspec": {
      "name": "python3",
      "display_name": "Python 3"
    },
    "language_info": {
      "name": "python"
    }
  },
  "cells": [
    {
      "cell_type": "code",
      "metadata": {
        "id": "dB9B1lGZ5Hgh"
      },
      "source": [
        ""
      ],
      "execution_count": null,
      "outputs": []
    },
    {
      "cell_type": "code",
      "metadata": {
        "colab": {
          "resources": {
            "http://localhost:8080/nbextensions/google.colab/files.js": {
              "data": "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",
              "ok": true,
              "headers": [
                [
                  "content-type",
                  "application/javascript"
                ]
              ],
              "status": 200,
              "status_text": "OK"
            }
          },
          "base_uri": "https://localhost:8080/",
          "height": 111
        },
        "id": "6BB1vxaI4wRV",
        "outputId": "cd77ca5c-906f-4e2c-fe39-7435b306a318"
      },
      "source": [
        "from google.colab import files\n",
        "\n",
        "files.upload()"
      ],
      "execution_count": 4,
      "outputs": [
        {
          "output_type": "display_data",
          "data": {
            "text/html": [
              "\n",
              "     <input type=\"file\" id=\"files-53bc1017-de7c-4e85-a307-5d12ca4f63b7\" name=\"files[]\" multiple disabled\n",
              "        style=\"border:none\" />\n",
              "     <output id=\"result-53bc1017-de7c-4e85-a307-5d12ca4f63b7\">\n",
              "      Upload widget is only available when the cell has been executed in the\n",
              "      current browser session. Please rerun this cell to enable.\n",
              "      </output>\n",
              "      <script src=\"/nbextensions/google.colab/files.js\"></script> "
            ],
            "text/plain": [
              "<IPython.core.display.HTML object>"
            ]
          },
          "metadata": {
            "tags": []
          }
        },
        {
          "output_type": "stream",
          "text": [
            "Saving input_2.pkl to input_2.pkl\n",
            "Saving roots_2.pkl to roots_2.pkl\n"
          ],
          "name": "stdout"
        }
      ]
    },
    {
      "cell_type": "code",
      "metadata": {
        "id": "DRNBO5Mk5VRx"
      },
      "source": [
        "import numpy as np\n",
        "import pandas as pd\n",
        "\n",
        "import tensorflow as tf\n",
        "from tensorflow.keras import layers\n",
        "\n",
        "from keras.models import Sequential\n",
        "from keras.layers import LSTM, RepeatVector, Dense, Dropout"
      ],
      "execution_count": null,
      "outputs": []
    },
    {
      "cell_type": "code",
      "metadata": {
        "colab": {
          "base_uri": "https://localhost:8080/"
        },
        "id": "gddKqYg72kav",
        "outputId": "162e387b-6349-4966-bc3f-a99fb500d80a"
      },
      "source": [
        "X = pd.read_pickle('input_2.pkl')\n",
        "Y = pd.read_pickle('roots_2.pkl')\n",
        "\n",
        "\n",
        "print(\"X head\")\n",
        "print(X.head())\n",
        "\n",
        "print(\"\\nY head\")\n",
        "print(Y.head())\n",
        "\n",
        "\n",
        "X_np = X.to_numpy()\n",
        "Y_np = Y.to_numpy()\n",
        "\n",
        "\n",
        "DEGREE = X_np.shape[1] - 1\n",
        "\n",
        "\n",
        "x_train = X_np[:80000]\n",
        "y_train = Y_np[:80000]\n",
        "\n",
        "x_val = X_np[80000:90000]\n",
        "y_val = Y_np[80000:90000]\n",
        "\n",
        "x_test = X_np[90000:]\n",
        "y_test = Y_np[90000:]\n",
        "\n",
        "\n",
        "def reshape(array):\n",
        "    return np.expand_dims(array, -1)\n",
        "\n",
        "\n",
        "X_train = reshape(x_train)\n",
        "Y_train = reshape(y_train)\n",
        "\n",
        "X_val = reshape(x_val)\n",
        "Y_val = reshape(y_val)\n",
        "\n",
        "X_test = reshape(x_test)\n",
        "Y_test = reshape(y_test)"
      ],
      "execution_count": 5,
      "outputs": [
        {
          "output_type": "stream",
          "text": [
            "X head\n",
            "         a0        a1        a2        a3        a4        a5\n",
            "0  0.045836  0.099444  0.199012  0.882048  0.876404 -0.070061\n",
            "1  0.153620 -0.036678 -0.097280  0.119063  0.857804 -0.579278\n",
            "2 -0.917627 -0.810804  0.214693  0.451562  0.738705 -0.169980\n",
            "3 -0.059165 -0.913112  0.478123  0.476287  0.705972 -0.899715\n",
            "4 -0.827581  0.006353 -0.604728  0.171360  0.567436 -0.189020\n",
            "\n",
            "Y head\n",
            "   Re(alpha1)  Im(alpha1)  Re(alpha2)  ...  Im(alpha4)  Re(alpha5)  Im(alpha5)\n",
            "0   -0.731739         0.0   -0.435827  ...   -0.375154    0.107998    0.375154\n",
            "1    1.570826         0.0   -0.493819  ...   -0.475135    0.448815    0.475135\n",
            "2   -0.802092         0.0    1.133923  ...   -1.010405   -0.438763    1.010405\n",
            "3   -0.062843         0.0   -0.611819  ...   -0.263067    1.035572    0.263067\n",
            "4   -1.282681         0.0    1.570212  ...   -0.867781   -0.075336    0.867781\n",
            "\n",
            "[5 rows x 10 columns]\n"
          ],
          "name": "stdout"
        }
      ]
    },
    {
      "cell_type": "code",
      "metadata": {
        "colab": {
          "base_uri": "https://localhost:8080/"
        },
        "id": "HfS5TX_i3hYL",
        "outputId": "8e95fa6a-810f-4244-f62c-a213ae152078"
      },
      "source": [
        "size = 128\n",
        "model = Sequential()\n",
        "\n",
        "model.add(LSTM(size, input_shape=(DEGREE+1,1)))\n",
        "\n",
        "model.add(RepeatVector(DEGREE * 2))\n",
        "model.add((LSTM(size, return_sequences=True)))\n",
        "model.add(Dropout(.2))\n",
        "model.add(Dense(1))\n",
        "\n",
        "model.compile(loss='mean_absolute_error',\n",
        "              optimizer='adam',\n",
        "              metrics=['mae'])\n",
        "\n",
        "print(model.summary())"
      ],
      "execution_count": 3,
      "outputs": [
        {
          "output_type": "stream",
          "text": [
            "Model: \"sequential\"\n",
            "_________________________________________________________________\n",
            "Layer (type)                 Output Shape              Param #   \n",
            "=================================================================\n",
            "lstm (LSTM)                  (None, 128)               66560     \n",
            "_________________________________________________________________\n",
            "repeat_vector (RepeatVector) (None, 10, 128)           0         \n",
            "_________________________________________________________________\n",
            "lstm_1 (LSTM)                (None, 10, 128)           131584    \n",
            "_________________________________________________________________\n",
            "dropout (Dropout)            (None, 10, 128)           0         \n",
            "_________________________________________________________________\n",
            "dense (Dense)                (None, 10, 1)             129       \n",
            "=================================================================\n",
            "Total params: 198,273\n",
            "Trainable params: 198,273\n",
            "Non-trainable params: 0\n",
            "_________________________________________________________________\n",
            "None\n"
          ],
          "name": "stdout"
        }
      ]
    },
    {
      "cell_type": "code",
      "metadata": {
        "colab": {
          "base_uri": "https://localhost:8080/"
        },
        "id": "-wBRipDA3iyU",
        "outputId": "cf5b4f1f-5e5d-494a-fb20-92494d3046d7"
      },
      "source": [
        "# 1st dataset\n",
        "BATCH_SIZE = 128\n",
        "model.fit(X_train, Y_train, batch_size=BATCH_SIZE, epochs=15, verbose=1, validation_data=(X_val, Y_val))"
      ],
      "execution_count": 4,
      "outputs": [
        {
          "output_type": "stream",
          "text": [
            "Epoch 1/15\n",
            "625/625 [==============================] - 58s 63ms/step - loss: 1.0485 - mae: 1.0485 - val_loss: 1.1914 - val_mae: 1.1914\n",
            "Epoch 2/15\n",
            "625/625 [==============================] - 39s 62ms/step - loss: 1.2159 - mae: 1.2159 - val_loss: 1.0171 - val_mae: 1.0171\n",
            "Epoch 3/15\n",
            "625/625 [==============================] - 39s 62ms/step - loss: 1.2138 - mae: 1.2138 - val_loss: 0.9719 - val_mae: 0.9719\n",
            "Epoch 4/15\n",
            "625/625 [==============================] - 39s 63ms/step - loss: 0.9039 - mae: 0.9039 - val_loss: 0.8729 - val_mae: 0.8729\n",
            "Epoch 5/15\n",
            "625/625 [==============================] - 39s 62ms/step - loss: 0.7605 - mae: 0.7605 - val_loss: 0.7943 - val_mae: 0.7943\n",
            "Epoch 6/15\n",
            "625/625 [==============================] - 39s 62ms/step - loss: 0.8793 - mae: 0.8793 - val_loss: 0.7689 - val_mae: 0.7689\n",
            "Epoch 7/15\n",
            "625/625 [==============================] - 39s 62ms/step - loss: 0.7901 - mae: 0.7901 - val_loss: 0.7436 - val_mae: 0.7436\n",
            "Epoch 8/15\n",
            "625/625 [==============================] - 39s 62ms/step - loss: 0.7386 - mae: 0.7386 - val_loss: 0.7274 - val_mae: 0.7274\n",
            "Epoch 9/15\n",
            "625/625 [==============================] - 39s 62ms/step - loss: 0.7999 - mae: 0.7999 - val_loss: 0.7146 - val_mae: 0.7146\n",
            "Epoch 10/15\n",
            "625/625 [==============================] - 39s 62ms/step - loss: 0.8157 - mae: 0.8157 - val_loss: 0.6958 - val_mae: 0.6958\n",
            "Epoch 11/15\n",
            "625/625 [==============================] - 39s 62ms/step - loss: 0.6474 - mae: 0.6474 - val_loss: 0.6898 - val_mae: 0.6898\n",
            "Epoch 12/15\n",
            "625/625 [==============================] - 39s 62ms/step - loss: 0.6492 - mae: 0.6492 - val_loss: 0.6837 - val_mae: 0.6837\n",
            "Epoch 13/15\n",
            "625/625 [==============================] - 39s 62ms/step - loss: 0.9993 - mae: 0.9993 - val_loss: 0.6705 - val_mae: 0.6705\n",
            "Epoch 14/15\n",
            "625/625 [==============================] - 39s 62ms/step - loss: 0.6966 - mae: 0.6966 - val_loss: 0.6728 - val_mae: 0.6728\n",
            "Epoch 15/15\n",
            "625/625 [==============================] - 39s 62ms/step - loss: 0.7033 - mae: 0.7033 - val_loss: 0.6546 - val_mae: 0.6546\n"
          ],
          "name": "stdout"
        },
        {
          "output_type": "execute_result",
          "data": {
            "text/plain": [
              "<keras.callbacks.History at 0x7f43c0b4ea90>"
            ]
          },
          "metadata": {
            "tags": []
          },
          "execution_count": 4
        }
      ]
    },
    {
      "cell_type": "code",
      "metadata": {
        "colab": {
          "base_uri": "https://localhost:8080/"
        },
        "id": "_J4YR8oR3w5J",
        "outputId": "4f913ffc-38a5-4d06-8c82-5c6f2160d9ba"
      },
      "source": [
        "# 2nd dataset\n",
        "model.fit(X_train, Y_train, batch_size=BATCH_SIZE, epochs=15, verbose=1, validation_data=(X_val, Y_val))"
      ],
      "execution_count": 6,
      "outputs": [
        {
          "output_type": "stream",
          "text": [
            "Epoch 1/15\n",
            "625/625 [==============================] - 39s 62ms/step - loss: 0.4730 - mae: 0.4730 - val_loss: 0.8686 - val_mae: 0.8686\n",
            "Epoch 2/15\n",
            "625/625 [==============================] - 39s 62ms/step - loss: 0.4657 - mae: 0.4657 - val_loss: 0.8677 - val_mae: 0.8677\n",
            "Epoch 3/15\n",
            "625/625 [==============================] - 39s 63ms/step - loss: 0.4610 - mae: 0.4610 - val_loss: 0.8648 - val_mae: 0.8648\n",
            "Epoch 4/15\n",
            "625/625 [==============================] - 39s 62ms/step - loss: 0.4551 - mae: 0.4551 - val_loss: 0.8556 - val_mae: 0.8556\n",
            "Epoch 5/15\n",
            "625/625 [==============================] - 39s 62ms/step - loss: 0.4492 - mae: 0.4492 - val_loss: 0.8535 - val_mae: 0.8535\n",
            "Epoch 6/15\n",
            "625/625 [==============================] - 39s 62ms/step - loss: 0.4479 - mae: 0.4479 - val_loss: 0.8468 - val_mae: 0.8468\n",
            "Epoch 7/15\n",
            "625/625 [==============================] - 39s 62ms/step - loss: 0.4409 - mae: 0.4409 - val_loss: 0.8428 - val_mae: 0.8428\n",
            "Epoch 8/15\n",
            "625/625 [==============================] - 39s 62ms/step - loss: 0.4384 - mae: 0.4384 - val_loss: 0.8500 - val_mae: 0.8500\n",
            "Epoch 9/15\n",
            "625/625 [==============================] - 39s 62ms/step - loss: 0.4339 - mae: 0.4339 - val_loss: 0.8428 - val_mae: 0.8428\n",
            "Epoch 10/15\n",
            "625/625 [==============================] - 39s 62ms/step - loss: 0.4333 - mae: 0.4333 - val_loss: 0.8501 - val_mae: 0.8501\n",
            "Epoch 11/15\n",
            "625/625 [==============================] - 40s 64ms/step - loss: 0.4273 - mae: 0.4273 - val_loss: 0.8498 - val_mae: 0.8498\n",
            "Epoch 12/15\n",
            "625/625 [==============================] - 39s 62ms/step - loss: 0.4245 - mae: 0.4245 - val_loss: 0.8307 - val_mae: 0.8307\n",
            "Epoch 13/15\n",
            "625/625 [==============================] - 39s 62ms/step - loss: 0.4221 - mae: 0.4221 - val_loss: 0.8331 - val_mae: 0.8331\n",
            "Epoch 14/15\n",
            "625/625 [==============================] - 39s 62ms/step - loss: 0.4195 - mae: 0.4195 - val_loss: 0.8348 - val_mae: 0.8348\n",
            "Epoch 15/15\n",
            "625/625 [==============================] - 39s 62ms/step - loss: 0.4169 - mae: 0.4169 - val_loss: 0.8238 - val_mae: 0.8238\n"
          ],
          "name": "stdout"
        },
        {
          "output_type": "execute_result",
          "data": {
            "text/plain": [
              "<keras.callbacks.History at 0x7f4407801b90>"
            ]
          },
          "metadata": {
            "tags": []
          },
          "execution_count": 6
        }
      ]
    },
    {
      "cell_type": "code",
      "metadata": {
        "colab": {
          "base_uri": "https://localhost:8080/"
        },
        "id": "_e0d_kqcytNU",
        "outputId": "f77fc5aa-7740-450e-d467-5d0ba437f6f4"
      },
      "source": [
        "model.evaluate(x=X_test, y=Y_test, batch_size=128, verbose=1)"
      ],
      "execution_count": 67,
      "outputs": [
        {
          "output_type": "stream",
          "text": [
            "79/79 [==============================] - 2s 24ms/step - loss: 0.4533 - mae: 0.4533\n"
          ],
          "name": "stdout"
        },
        {
          "output_type": "execute_result",
          "data": {
            "text/plain": [
              "[0.45330917835235596, 0.45330914855003357]"
            ]
          },
          "metadata": {
            "tags": []
          },
          "execution_count": 67
        }
      ]
    },
    {
      "cell_type": "code",
      "metadata": {
        "colab": {
          "base_uri": "https://localhost:8080/"
        },
        "id": "ZypOnHQig1V8",
        "outputId": "1838f5d8-d0b8-4bab-a352-11999201fba6"
      },
      "source": [
        "import time\n",
        "\n",
        "start = time.perf_counter()\n",
        "y_pred = model.predict(X_test)\n",
        "stop = time.perf_counter()\n",
        "\n",
        "print(f'Time: {stop-start} s')"
      ],
      "execution_count": 21,
      "outputs": [
        {
          "output_type": "stream",
          "text": [
            "Time: 1.9256427089999306 s\n"
          ],
          "name": "stdout"
        }
      ]
    },
    {
      "cell_type": "code",
      "metadata": {
        "id": "HLNiwOTO00h2",
        "colab": {
          "base_uri": "https://localhost:8080/"
        },
        "outputId": "65ca42ca-bfc9-41b5-c04a-706faf7fc026"
      },
      "source": [
        "print(y_pred.shape)\n",
        "y_pred = np.squeeze(y_pred, axis=2)\n",
        "print(y_pred.shape)"
      ],
      "execution_count": 22,
      "outputs": [
        {
          "output_type": "stream",
          "text": [
            "(10000, 10, 1)\n",
            "(10000, 10)\n"
          ],
          "name": "stdout"
        }
      ]
    },
    {
      "cell_type": "code",
      "metadata": {
        "id": "df8rboKuo5nK"
      },
      "source": [
        "import random\n",
        "\n",
        "import numpy as np\n",
        "import tensorflow as tf\n",
        "import pandas as pd\n",
        "from tensorflow import keras\n",
        "import matplotlib.pyplot as plt"
      ],
      "execution_count": null,
      "outputs": []
    },
    {
      "cell_type": "code",
      "metadata": {
        "colab": {
          "base_uri": "https://localhost:8080/",
          "height": 1000
        },
        "id": "Rd9rxDmH19I8",
        "outputId": "ea871799-754b-428f-d834-b395e91009d0"
      },
      "source": [
        "for i in range(3):\n",
        "  index = random.randint(0, X_test.shape[0])\n",
        "\n",
        "  test = y_test[index]\n",
        "  pred = y_pred[index]\n",
        "\n",
        "  test_real = test[::2]\n",
        "  test_imag = test[1::2]\n",
        "\n",
        "  pred_real = pred[::2]\n",
        "  pred_imag = pred[1::2]\n",
        "\n",
        "  plt.figure()\n",
        "  plt.scatter(test_real, test_imag, label='test')\n",
        "  plt.scatter(pred_real, pred_imag, label='pred')\n",
        "  plt.legend()\n",
        "  plt.xlabel('Real')\n",
        "  plt.ylabel('Imag')\n",
        "  plt.axhline(0)\n",
        "  plt.axvline(0)\n",
        "\n",
        "  print(f'Test nr: {i+1}')\n",
        "  print(f'Test output:\\t\\t'\n",
        "  f'{test_real[0]:.5f} + {test_imag[0]:.5f}; '\n",
        "  f'{test_real[1]:.5f} + {test_imag[1]:.5f}; '\n",
        "  f'{test_real[2]:.5f} + {test_imag[2]:.5f}; '\n",
        "  f'{test_real[3]:.5f} + {test_imag[3]:.5f}; '\n",
        "  f'{test_real[4]:.5f} + {test_imag[4]:.5f}')\n",
        "  print(f'Predicted output:\\t'\n",
        "  f'{pred_real[0]:.5f} + {pred_imag[0]:.5f}; '\n",
        "  f'{pred_real[1]:.5f} + {pred_imag[1]:.5f}; '\n",
        "  f'{pred_real[2]:.5f} + {pred_imag[2]:.5f}; '\n",
        "  f'{pred_real[3]:.5f} + {pred_imag[3]:.5f}; '\n",
        "  f'{pred_real[4]:.5f} + {pred_imag[4]:.5f}\\n')"
      ],
      "execution_count": 74,
      "outputs": [
        {
          "output_type": "stream",
          "text": [
            "Test nr: 1\n",
            "Test output:\t\t-0.13002 + 0.00000; 0.51743 + 0.00000; 1.96494 + 0.00000; -1.21701 + -0.93262; -1.21701 + 0.93262\n",
            "Predicted output:\t-0.15205 + -0.00739; 0.61373 + -0.01205; 1.92194 + -0.01661; -1.36012 + -0.92828; -1.38226 + 0.91961\n",
            "\n",
            "Test nr: 2\n",
            "Test output:\t\t0.50535 + 0.00000; -0.53720 + -0.41484; -0.53720 + 0.41484; 0.75858 + -1.16222; 0.75858 + 1.16222\n",
            "Predicted output:\t0.49198 + 0.01895; -0.53928 + -0.42984; -0.54966 + 0.42327; 0.76349 + -1.14816; 0.75089 + 1.15263\n",
            "\n",
            "Test nr: 3\n",
            "Test output:\t\t-0.89334 + 0.00000; -0.52687 + -1.13954; -0.52687 + 1.13954; 0.59972 + -0.50757; 0.59972 + 0.50757\n",
            "Predicted output:\t-0.84199 + 0.00429; -0.56989 + -1.15166; -0.55266 + 1.12585; 0.58113 + -0.53003; 0.59428 + 0.51879\n",
            "\n"
          ],
          "name": "stdout"
        },
        {
          "output_type": "display_data",
          "data": {
            "image/png": "[encoded data removed]",
            "text/plain": [
              "<Figure size 432x288 with 1 Axes>"
            ]
          },
          "metadata": {
            "tags": [],
            "needs_background": "light"
          }
        },
        {
          "output_type": "display_data",
          "data": {
            "image/png": "[encoded data removed]",
            "text/plain": [
              "<Figure size 432x288 with 1 Axes>"
            ]
          },
          "metadata": {
            "tags": [],
            "needs_background": "light"
          }
        },
        {
          "output_type": "display_data",
          "data": {
            "image/png": "[encoded data removed]",
            "text/plain": [
              "<Figure size 432x288 with 1 Axes>"
            ]
          },
          "metadata": {
            "tags": [],
            "needs_background": "light"
          }
        }
      ]
    },
    {
      "cell_type": "code",
      "metadata": {
        "colab": {
          "base_uri": "https://localhost:8080/"
        },
        "id": "d6PyXYduFDK1",
        "outputId": "ef1034d5-3383-4460-d2c2-61d13c465aa2"
      },
      "source": [
        "# serialize model to JSON\n",
        "model_json = model.to_json()\n",
        "with open(\"model.json\", \"w\") as json_file:\n",
        "    json_file.write(model_json)\n",
        "# serialize weights to HDF5\n",
        "model.save_weights(\"model.h5\")\n",
        "print(\"Saved model to disk\")\n"
      ],
      "execution_count": 68,
      "outputs": [
        {
          "output_type": "stream",
          "text": [
            "Saved model to disk\n"
          ],
          "name": "stdout"
        }
      ]
    },
    {
      "cell_type": "code",
      "metadata": {
        "colab": {
          "base_uri": "https://localhost:8080/",
          "height": 17
        },
        "id": "m5ISdmc-FLS_",
        "outputId": "5feee898-3dc7-43b4-f2ec-941b390a8734"
      },
      "source": [
        "from google.colab import files\n",
        "\n",
        "files.download(\"model.json\")\n",
        "files.download(\"model.h5\")"
      ],
      "execution_count": 70,
      "outputs": [
        {
          "output_type": "display_data",
          "data": {
            "application/javascript": [
              "\n",
              "    async function download(id, filename, size) {\n",
              "      if (!google.colab.kernel.accessAllowed) {\n",
              "        return;\n",
              "      }\n",
              "      const div = document.createElement('div');\n",
              "      const label = document.createElement('label');\n",
              "      label.textContent = `Downloading \"${filename}\": `;\n",
              "      div.appendChild(label);\n",
              "      const progress = document.createElement('progress');\n",
              "      progress.max = size;\n",
              "      div.appendChild(progress);\n",
              "      document.body.appendChild(div);\n",
              "\n",
              "      const buffers = [];\n",
              "      let downloaded = 0;\n",
              "\n",
              "      const channel = await google.colab.kernel.comms.open(id);\n",
              "      // Send a message to notify the kernel that we're ready.\n",
              "      channel.send({})\n",
              "\n",
              "      for await (const message of channel.messages) {\n",
              "        // Send a message to notify the kernel that we're ready.\n",
              "        channel.send({})\n",
              "        if (message.buffers) {\n",
              "          for (const buffer of message.buffers) {\n",
              "            buffers.push(buffer);\n",
              "            downloaded += buffer.byteLength;\n",
              "            progress.value = downloaded;\n",
              "          }\n",
              "        }\n",
              "      }\n",
              "      const blob = new Blob(buffers, {type: 'application/binary'});\n",
              "      const a = document.createElement('a');\n",
              "      a.href = window.URL.createObjectURL(blob);\n",
              "      a.download = filename;\n",
              "      div.appendChild(a);\n",
              "      a.click();\n",
              "      div.remove();\n",
              "    }\n",
              "  "
            ],
            "text/plain": [
              "<IPython.core.display.Javascript object>"
            ]
          },
          "metadata": {
            "tags": []
          }
        },
        {
          "output_type": "display_data",
          "data": {
            "application/javascript": [
              "download(\"download_98dbadef-923c-41e1-8739-fc5d311f657d\", \"model.json\", 2659)"
            ],
            "text/plain": [
              "<IPython.core.display.Javascript object>"
            ]
          },
          "metadata": {
            "tags": []
          }
        },
        {
          "output_type": "display_data",
          "data": {
            "application/javascript": [
              "\n",
              "    async function download(id, filename, size) {\n",
              "      if (!google.colab.kernel.accessAllowed) {\n",
              "        return;\n",
              "      }\n",
              "      const div = document.createElement('div');\n",
              "      const label = document.createElement('label');\n",
              "      label.textContent = `Downloading \"${filename}\": `;\n",
              "      div.appendChild(label);\n",
              "      const progress = document.createElement('progress');\n",
              "      progress.max = size;\n",
              "      div.appendChild(progress);\n",
              "      document.body.appendChild(div);\n",
              "\n",
              "      const buffers = [];\n",
              "      let downloaded = 0;\n",
              "\n",
              "      const channel = await google.colab.kernel.comms.open(id);\n",
              "      // Send a message to notify the kernel that we're ready.\n",
              "      channel.send({})\n",
              "\n",
              "      for await (const message of channel.messages) {\n",
              "        // Send a message to notify the kernel that we're ready.\n",
              "        channel.send({})\n",
              "        if (message.buffers) {\n",
              "          for (const buffer of message.buffers) {\n",
              "            buffers.push(buffer);\n",
              "            downloaded += buffer.byteLength;\n",
              "            progress.value = downloaded;\n",
              "          }\n",
              "        }\n",
              "      }\n",
              "      const blob = new Blob(buffers, {type: 'application/binary'});\n",
              "      const a = document.createElement('a');\n",
              "      a.href = window.URL.createObjectURL(blob);\n",
              "      a.download = filename;\n",
              "      div.appendChild(a);\n",
              "      a.click();\n",
              "      div.remove();\n",
              "    }\n",
              "  "
            ],
            "text/plain": [
              "<IPython.core.display.Javascript object>"
            ]
          },
          "metadata": {
            "tags": []
          }
        },
        {
          "output_type": "display_data",
          "data": {
            "application/javascript": [
              "download(\"download_b3fc085b-041f-40aa-bf4a-dbee6995c242\", \"model.h5\", 813528)"
            ],
            "text/plain": [
              "<IPython.core.display.Javascript object>"
            ]
          },
          "metadata": {
            "tags": []
          }
        }
      ]
    }
  ]
}